{
  "nbformat": 4,
  "nbformat_minor": 0,
  "metadata": {
    "colab": {
      "provenance": []
    },
    "kernelspec": {
      "name": "python3",
      "display_name": "Python 3"
    },
    "language_info": {
      "name": "python"
    }
  },
  "cells": [
    {
      "cell_type": "code",
      "execution_count": 4,
      "metadata": {
        "colab": {
          "base_uri": "https://localhost:8080/"
        },
        "id": "4Kkb-fbG5fuM",
        "outputId": "a45a1008-3f92-4597-ffa8-61d64361a7dc"
      },
      "outputs": [
        {
          "output_type": "stream",
          "name": "stdout",
          "text": [
            "Name: Igor\n"
          ]
        }
      ],
      "source": [
        "name = 'Igor'\n",
        "print(f'Name: {name}')"
      ]
    },
    {
      "cell_type": "code",
      "source": [
        "age = 38\n",
        "print(f'Age: {age}')"
      ],
      "metadata": {
        "colab": {
          "base_uri": "https://localhost:8080/"
        },
        "id": "xFlXd8uX5ryM",
        "outputId": "5226bd28-9543-4b8d-8788-5d7bd0a7126e"
      },
      "execution_count": 5,
      "outputs": [
        {
          "output_type": "stream",
          "name": "stdout",
          "text": [
            "Age: 38\n"
          ]
        }
      ]
    },
    {
      "cell_type": "code",
      "source": [
        "age = age + 1\n",
        "print(f'New Age: {age}')"
      ],
      "metadata": {
        "colab": {
          "base_uri": "https://localhost:8080/"
        },
        "id": "Fskpjj1X58dr",
        "outputId": "e18a8988-d2b0-4ee9-fd3d-d3fd944d7659"
      },
      "execution_count": 6,
      "outputs": [
        {
          "output_type": "stream",
          "name": "stdout",
          "text": [
            "New Age: 39\n"
          ]
        }
      ]
    },
    {
      "cell_type": "code",
      "source": [
        "is_student = True\n",
        "print(f'Is Student: {is_student}')"
      ],
      "metadata": {
        "colab": {
          "base_uri": "https://localhost:8080/"
        },
        "id": "p-Km-ONP5-vt",
        "outputId": "a4f21570-9647-4abb-ddf1-de2872e11226"
      },
      "execution_count": 7,
      "outputs": [
        {
          "output_type": "stream",
          "name": "stdout",
          "text": [
            "Is Student: True\n"
          ]
        }
      ]
    }
  ]
}