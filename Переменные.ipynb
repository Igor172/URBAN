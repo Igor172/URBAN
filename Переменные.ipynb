{
 "cells": [
  {
   "cell_type": "code",
   "execution_count": 3,
   "id": "6dce6305",
   "metadata": {},
   "outputs": [],
   "source": [
    "total_tasks = 12\n",
    "total_time_hours = 1.5\n",
    "name_of_course = 'Python'\n",
    "time_per_task_min = total_time_hours * 60 / total_tasks"
   ]
  },
  {
   "cell_type": "code",
   "execution_count": 4,
   "id": "8ed0a54d",
   "metadata": {},
   "outputs": [
    {
     "name": "stdout",
     "output_type": "stream",
     "text": [
      "Курс: Python, всего задач:12, затрачено часов: 1.5, среднее время выполнения 7.5 минут\n"
     ]
    }
   ],
   "source": [
    "print(f'Курс: {name_of_course}, всего задач:{total_tasks}, затрачено часов: {total_time_hours}, среднее время выполнения {time_per_task_min} минут')"
   ]
  }
 ],
 "metadata": {
  "kernelspec": {
   "display_name": "Python 3 (ipykernel)",
   "language": "python",
   "name": "python3"
  },
  "language_info": {
   "codemirror_mode": {
    "name": "ipython",
    "version": 3
   },
   "file_extension": ".py",
   "mimetype": "text/x-python",
   "name": "python",
   "nbconvert_exporter": "python",
   "pygments_lexer": "ipython3",
   "version": "3.11.5"
  }
 },
 "nbformat": 4,
 "nbformat_minor": 5
}
