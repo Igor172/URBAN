{
 "cells": [
  {
   "cell_type": "code",
   "execution_count": 1,
   "id": "04f316b4",
   "metadata": {},
   "outputs": [],
   "source": [
    "example = 'This is my example'"
   ]
  },
  {
   "cell_type": "code",
   "execution_count": 2,
   "id": "bec0d64d",
   "metadata": {},
   "outputs": [
    {
     "name": "stdout",
     "output_type": "stream",
     "text": [
      "T\n",
      "e\n",
      "y example\n",
      "elpmaxe ym si sihT\n",
      "Ti sm xml\n"
     ]
    }
   ],
   "source": [
    "print(example[0])\n",
    "print(example[-1])\n",
    "print(example[len(example) // 2:])\n",
    "print(example[::-1])\n",
    "print(example[::2])"
   ]
  }
 ],
 "metadata": {
  "kernelspec": {
   "display_name": "Python 3 (ipykernel)",
   "language": "python",
   "name": "python3"
  },
  "language_info": {
   "codemirror_mode": {
    "name": "ipython",
    "version": 3
   },
   "file_extension": ".py",
   "mimetype": "text/x-python",
   "name": "python",
   "nbconvert_exporter": "python",
   "pygments_lexer": "ipython3",
   "version": "3.11.5"
  }
 },
 "nbformat": 4,
 "nbformat_minor": 5
}
